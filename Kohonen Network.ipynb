{
 "cells": [
  {
   "cell_type": "markdown",
   "id": "19011ea8-65d8-4422-afb8-880446731633",
   "metadata": {},
   "source": [
    "# Import Libraries"
   ]
  },
  {
   "cell_type": "code",
   "execution_count": 4,
   "id": "76833f56-983d-48f5-bd9b-796faa1d3af7",
   "metadata": {},
   "outputs": [],
   "source": [
    "import numpy as np\n",
    "import matplotlib.pyplot as plt"
   ]
  },
  {
   "cell_type": "markdown",
   "id": "027a81af-c416-4646-b81f-d0b6e956e209",
   "metadata": {},
   "source": [
    "# Generate Data"
   ]
  },
  {
   "cell_type": "code",
   "execution_count": 2,
   "id": "2dc687b6-8661-42c9-aa5c-41b97b78b894",
   "metadata": {},
   "outputs": [],
   "source": [
    "data = np.random.randint(0, 256, (100, 3), dtype=int)\n",
    "data = data / 255.0"
   ]
  },
  {
   "cell_type": "markdown",
   "id": "ec737c50-b4d9-4d1b-8119-83586e3b7cd2",
   "metadata": {},
   "source": [
    "# Kohonen Network"
   ]
  },
  {
   "cell_type": "code",
   "execution_count": 3,
   "id": "3c16d23a-f3c8-4a2c-8d61-b084ac34e2c1",
   "metadata": {},
   "outputs": [],
   "source": [
    "class KohonenNetwork:\n",
    "    def __init__(self, map_dim, epochs, learning_rate):\n",
    "        self.map_dim = map_dim\n",
    "        self.map = np.random.uniform(0, 1, size=(self.map_dim[0], self.map_dim[1], 3))\n",
    "        self.epochs = epochs\n",
    "        self.learning_rate = learning_rate\n",
    "        self.initial_learning_rate = learning_rate\n",
    "\n",
    "    def compute_variables(self, epoch=0):\n",
    "        self.radius = self.map_dim[0] / 2 * (1 - epoch / self.epochs)\n",
    "        self.learning_rate = self.initial_learning_rate * (1 - epoch / self.epochs)\n",
    "\n",
    "    def euclidean_distance(self, a, b):\n",
    "        return np.linalg.norm(a - b)\n",
    "    \n",
    "    def winner(self, x):\n",
    "        min_dist = float('inf')\n",
    "        winner_coords = (0, 0)\n",
    "        for i in range(self.map_dim[0]):\n",
    "            for j in range(self.map_dim[1]):\n",
    "                dist = self.euclidean_distance(self.map[i][j], x)\n",
    "                if dist < min_dist:\n",
    "                    min_dist = dist\n",
    "                    winner_coords = (i, j)\n",
    "                    \n",
    "        return winner_coords\n",
    "\n",
    "    def update_weights(self, x, winner_coords):\n",
    "        for i in range(self.map_dim[0]):\n",
    "            for j in range(self.map_dim[1]):\n",
    "                dist = self.euclidean_distance(np.array([i, j]), np.array(winner_coords))\n",
    "                if dist < self.radius:\n",
    "                    influence = np.exp(-dist / (2 * (radius ** 2)))\n",
    "                    self.map[i][j] += self.learning_rate * influence * (x - self.map[i][j])\n",
    "\n",
    "    def train(self, data):\n",
    "        n = len(data)\n",
    "        for epoch in range(self.epochs):\n",
    "            self.compute_variables(epoch)\n",
    "            winner_coords = self.winner(data[epoch % n])\n",
    "            self.update_weights(data[epoch % n], winner_coords)"
   ]
  },
  {
   "cell_type": "markdown",
   "id": "73535c1b-47ee-431f-90a2-3fbb5395788f",
   "metadata": {},
   "source": [
    "# Train"
   ]
  },
  {
   "cell_type": "code",
   "execution_count": 11,
   "id": "b51cdb92-b053-430d-8627-9759670b98ed",
   "metadata": {},
   "outputs": [],
   "source": [
    "som = KohonenNetwork(map_dim=(10, 10), epochs=3000, learning_rate=0.04)"
   ]
  },
  {
   "cell_type": "code",
   "execution_count": 12,
   "id": "a2d8231f-2988-4173-9ae7-8a47126feabf",
   "metadata": {},
   "outputs": [],
   "source": [
    "map_before_train = som.map.copy()"
   ]
  },
  {
   "cell_type": "code",
   "execution_count": 13,
   "id": "f8846b3a-2d0c-4405-ae34-4e4af46431ff",
   "metadata": {},
   "outputs": [],
   "source": [
    "som.train(data)"
   ]
  },
  {
   "cell_type": "code",
   "execution_count": 14,
   "id": "5926f4c2-2a63-4e72-aeb4-54a3daa93651",
   "metadata": {},
   "outputs": [],
   "source": [
    "map_after_train = som.map.copy()"
   ]
  },
  {
   "cell_type": "markdown",
   "id": "20b8c59d-6e69-47ef-a7b9-b04d9d9934d8",
   "metadata": {},
   "source": [
    "# Results "
   ]
  },
  {
   "cell_type": "code",
   "execution_count": 15,
   "id": "d17fa21c-b175-4415-a327-f7e477ff9cf5",
   "metadata": {},
   "outputs": [
    {
     "data": {
      "image/png": "[encoded data removed]",
      "text/plain": [
       "<Figure size 1000x500 with 2 Axes>"
      ]
     },
     "metadata": {},
     "output_type": "display_data"
    }
   ],
   "source": [
    "fig, axs = plt.subplots(nrows=1, ncols=2, figsize=(10, 5))\n",
    "\n",
    "axs[0].imshow(map_before_train)\n",
    "axs[0].set_title(\"Map Before Train\")\n",
    "axs[0].axis(\"off\")\n",
    "\n",
    "axs[1].imshow(map_after_train)\n",
    "axs[1].set_title(\"Map After Train\")\n",
    "axs[1].axis(\"off\")\n",
    "\n",
    "plt.show()"
   ]
  },
  {
   "cell_type": "code",
   "execution_count": null,
   "id": "aa21d293-bc16-455f-8b2e-623aaeddf602",
   "metadata": {},
   "outputs": [],
   "source": []
  },
  {
   "cell_type": "code",
   "execution_count": null,
   "id": "a356ed78-b3bd-4c42-8c72-e1584e61400d",
   "metadata": {},
   "outputs": [],
   "source": []
  }
 ],
 "metadata": {
  "kernelspec": {
   "display_name": "Python 3 (ipykernel)",
   "language": "python",
   "name": "python3"
  },
  "language_info": {
   "codemirror_mode": {
    "name": "ipython",
    "version": 3
   },
   "file_extension": ".py",
   "mimetype": "text/x-python",
   "name": "python",
   "nbconvert_exporter": "python",
   "pygments_lexer": "ipython3",
   "version": "3.10.12"
  }
 },
 "nbformat": 4,
 "nbformat_minor": 5
}
